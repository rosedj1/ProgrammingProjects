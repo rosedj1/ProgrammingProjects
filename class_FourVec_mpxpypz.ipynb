{
 "cells": [
  {
   "cell_type": "code",
   "execution_count": 4,
   "metadata": {},
   "outputs": [],
   "source": [
    "import numpy as np"
   ]
  },
  {
   "cell_type": "code",
   "execution_count": 66,
   "metadata": {},
   "outputs": [],
   "source": [
    "class FourVec_mpxpypz():\n",
    "    \n",
    "    def __init__(self,m,px,py,pz):\n",
    "        \"\"\"\n",
    "        Create a four-vector (particle) using mass and 3-momentum.\n",
    "        \n",
    "        Arguments:\n",
    "            m = mass [GeV] \n",
    "            px = x-component of 3-momentum [GeV] \n",
    "            py = y-component of 3-momentum [GeV]\n",
    "            pz = z-component of 3-momentum [GeV]\n",
    "        \"\"\"\n",
    "        self.m  = m\n",
    "        self.px = px\n",
    "        self.py = py\n",
    "        self.pz = pz\n",
    "        self.vals = np.array([m,px,py,pz])\n",
    "        self.Pcomps = self.vals[1::]\n",
    "\n",
    "    def P(self):\n",
    "        \"\"\"Get the total 3-momentum.\"\"\"\n",
    "        return np.sqrt(sum(self.Pcomps**2))\n",
    "    \n",
    "    def E(self):\n",
    "        \"\"\"Get the total energy.\"\"\"\n",
    "        return np.sqrt(self.m**2 + self.P()**2)\n",
    "    \n",
    "    def Pdot(self,other):\n",
    "        \"\"\"Take the scalar (dor) product of a FourVec with another FourVec.\"\"\"\n",
    "        return sum(self.Pcomps * other.Pcomps)\n",
    "    \n",
    "    def M(self,other=0):\n",
    "        \"\"\"Calculate invariant mass of a FourVec.\"\"\"\n",
    "        if other == 0: return self.m\n",
    "        else:\n",
    "            crossterm = 2*( self.E()*other.E() - self.Pdot(other) )\n",
    "            return np.sqrt( self.m**2 + other.m**2 + crossterm )\n",
    "    \n",
    "    def __add__(self, other):\n",
    "        \"\"\"Add two FourVec objects together to make a new FourVec.\n",
    "        \n",
    "        NOTE: The 3-momentum components can add, but the invariant mass must be calculated differently.\n",
    "        \"\"\"\n",
    "        P = self.Pcomps+other.Pcomps\n",
    "        return FourVec_mpxpypz(self.M(other),P[0],P[1],P[2])"
   ]
  },
  {
   "cell_type": "code",
   "execution_count": null,
   "metadata": {},
   "outputs": [],
   "source": [
    "pion   = FourVec_mpxpypz(0.140,-0.255,-0.050,0.486)\n",
    "proton = FourVec_mpxpypz(0.938,-0.488,-0.018,2.109)\n",
    "X = pion + proton"
   ]
  },
  {
   "cell_type": "code",
   "execution_count": 78,
   "metadata": {},
   "outputs": [
    {
     "name": "stdout",
     "output_type": "stream",
     "text": [
      "pion values: [ 0.14  -0.255 -0.05   0.486]\n",
      "proton values: [ 0.938 -0.488 -0.018  2.109]\n",
      "X values: [ 1.13218789 -0.743      -0.068       2.595     ] \n",
      "\n",
      "X mass: 1.1321878919996906\n",
      "X energy: 2.9278912928574896\n"
     ]
    }
   ],
   "source": [
    "print(\"pion values:\",pion.vals)\n",
    "print(\"proton values:\",proton.vals)\n",
    "print(\"X values:\",X.vals,\"\\n\")\n",
    "print(\"X mass:\",X.m)\n",
    "print(\"X energy:\",X.E())"
   ]
  },
  {
   "cell_type": "code",
   "execution_count": 75,
   "metadata": {},
   "outputs": [
    {
     "name": "stdout",
     "output_type": "stream",
     "text": [
      "1.150314\n",
      "1.150314\n"
     ]
    }
   ],
   "source": [
    "# Check that the scalar product is symmetric.\n",
    "print(proton.Pdot(pion))\n",
    "print(pion.Pdot(proton))"
   ]
  }
 ],
 "metadata": {
  "kernelspec": {
   "display_name": "Python 3",
   "language": "python",
   "name": "python3"
  },
  "language_info": {
   "codemirror_mode": {
    "name": "ipython",
    "version": 3
   },
   "file_extension": ".py",
   "mimetype": "text/x-python",
   "name": "python",
   "nbconvert_exporter": "python",
   "pygments_lexer": "ipython3",
   "version": "3.6.7"
  }
 },
 "nbformat": 4,
 "nbformat_minor": 2
}
