{
 "cells": [
  {
   "cell_type": "code",
   "execution_count": 2,
   "metadata": {},
   "outputs": [],
   "source": [
    "import numpy as np\n",
    "import matplotlib.pyplot as plt\n",
    "\n",
    "%matplotlib inline"
   ]
  },
  {
   "cell_type": "code",
   "execution_count": null,
   "metadata": {},
   "outputs": [],
   "source": [
    "class Loan:\n",
    "    def __init__(self, principal, intrate, lifetime):\n",
    "        \"\"\"\n",
    "        Attributes:\n",
    "            principal = total loan amount borrowed [$]\n",
    "            intrate   = annual interest rate [%]\n",
    "            lifetime  = estimated lifetime of loan [years]\n",
    "        \"\"\"\n",
    "        self.beginprincipal = principal\n",
    "        self.intrate   = intrate/100 # as a decimal\n",
    "        self.lifetime  = lifetime*12 # now in months\n",
    "        \n",
    "        self.principal_ls = [principal] # principal remaining each month\n",
    "        self.interest_ls  = []\n",
    "        self.timepassed = [0]   # start off with 0 months elapsed\n",
    "        self.totalintaccrued = 0\n",
    "        \n",
    "    def getTimeRemaining(self):\n",
    "        print('You have', self.lifetime - self.timepassed[-1], 'months remaining to pay off your loan.')\n",
    "    \n",
    "    def makePayment(self, payment, verbose=False):\n",
    "        to_prin = payment*\n",
    "        to_int = payment*\n",
    "        \n",
    "        self.timepassed.append(    self.timepassed[-1]+1 ) # increment month by 1\n",
    "        self.principal_ls.append( self.principal_ls[-1] - to_prin )\n",
    "        self.remainingint.append(  self.remainingint[-1] - to_int )\n",
    "        \n",
    "        if (verbose):\n",
    "            print(\"\"\"\n",
    "            A payment was made in the amount of: ${0}\n",
    "                ${} went towards principal\n",
    "                ${} went towards interest\n",
    "\n",
    "                Remaining principal to be paid: ${1}\n",
    "                Remaining interest to be paid:  ${2}\n",
    "            \"\"\".format(payment, \n",
    "                       self.principal_ls[-1], \n",
    "                       self.remainingint[-1])\n",
    "                 )\n",
    "            self.getTimeRemaining()\n",
    "            \n",
    "    def plotPandIoverTime(self):\n",
    "        f,ax = plt.subplots()\n",
    "        ax.set_xlabel('Month')\n",
    "        ax.set_ylabel('Amount Paid [$]')\n",
    "        ax.plot(self.timepassed, self.principal_ls, label='Principal', color='b')\n",
    "        ax.plot(self.timepassed, self.interest_ls, label='Interest', color='r')\n",
    "        ax.plot(self.timepassed, self.interest_ls, label='Interest', color='r')"
   ]
  },
  {
   "cell_type": "code",
   "execution_count": null,
   "metadata": {},
   "outputs": [],
   "source": [
    "og_loan = 160050         # [dollars]\n",
    "interest_rate = 4.875    # annual interest rate\n",
    "lifetime = 30\n",
    "currentprin = 156734.27  # remaining amount on loan as of 2019-04-20 [dollars]\n",
    "\n",
    "# All in dollars\n",
    "princ_and_int = 847.00\n",
    "hazard_ins    = 76.50\n",
    "mortgage_ins  = 113.37\n",
    "county_tax    = 55.78\n",
    "minpaypermo   = princ_and_int+hazard_ins+mortgage_ins+county_tax\n",
    "\n",
    "currentpaypermo = 1292.65\n",
    "\"\"\"\n",
    "Other information about loan:\n",
    "    Loan type:      Conventional with PMI\n",
    "    Payment Method: Monthly Statement\n",
    "\"\"\""
   ]
  },
  {
   "cell_type": "code",
   "execution_count": null,
   "metadata": {},
   "outputs": [],
   "source": [
    "js_loan = Loan(og_loan, interest_rate, )\n",
    "\n",
    "\n",
    "js_loan.plotPandIoverTime()\n",
    "#js_loan.printTotalTimeTaken"
   ]
  },
  {
   "cell_type": "code",
   "execution_count": 12,
   "metadata": {},
   "outputs": [
    {
     "name": "stdout",
     "output_type": "stream",
     "text": [
      "<map object at 0x117223e10>\n"
     ]
    }
   ],
   "source": [
    "ls1 = [3,4,5]\n",
    "ls2 = [6,7,8]\n",
    "\n",
    "addlists = lambda x,y : x+y\n",
    "ls3 = map(addlists,ls1,ls2)\n"
   ]
  },
  {
   "cell_type": "code",
   "execution_count": null,
   "metadata": {},
   "outputs": [],
   "source": []
  }
 ],
 "metadata": {
  "kernelspec": {
   "display_name": "Python 3",
   "language": "python",
   "name": "python3"
  },
  "language_info": {
   "codemirror_mode": {
    "name": "ipython",
    "version": 3
   },
   "file_extension": ".py",
   "mimetype": "text/x-python",
   "name": "python",
   "nbconvert_exporter": "python",
   "pygments_lexer": "ipython3",
   "version": "3.6.7"
  }
 },
 "nbformat": 4,
 "nbformat_minor": 2
}
