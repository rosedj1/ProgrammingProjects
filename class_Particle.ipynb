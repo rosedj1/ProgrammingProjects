{
 "cells": [
  {
   "cell_type": "code",
   "execution_count": 1,
   "metadata": {},
   "outputs": [],
   "source": [
    "import numpy as np"
   ]
  },
  {
   "cell_type": "code",
   "execution_count": 2,
   "metadata": {},
   "outputs": [],
   "source": [
    "class Particle():\n",
    "    \n",
    "    def __init__(self,m,px,py,pz):\n",
    "        \"\"\"\n",
    "        Create a particle from its mass and 3-momentum.\n",
    "        \n",
    "        Arguments:\n",
    "            m = mass [GeV] \n",
    "            px = x-component of 3-momentum [GeV] \n",
    "            py = y-component of 3-momentum [GeV]\n",
    "            pz = z-component of 3-momentum [GeV]\n",
    "        \"\"\"\n",
    "        self.m  = m\n",
    "        self.px = px\n",
    "        self.py = py\n",
    "        self.pz = pz\n",
    "        self.vals = np.array([m,px,py,pz])\n",
    "        self.Pcomps = self.vals[1::]\n",
    "\n",
    "    def Pmag(self):\n",
    "        \"\"\"Get the magnitude of the total 3-momentum.\"\"\"\n",
    "        return np.sqrt(sum(self.Pcomps**2))\n",
    "    \n",
    "    def E(self):\n",
    "        \"\"\"Get the total energy.\"\"\"\n",
    "        return np.sqrt(self.m**2 + self.Pmag()**2)\n",
    "    \n",
    "    def P3dot(self,other):\n",
    "        \"\"\"Take the scalar (dot) product of a Particle's 3-momentum with another Particle's 3-momenum.\"\"\"\n",
    "        return sum(self.Pcomps * other.Pcomps)\n",
    "    \n",
    "    def P4dot(self,other):\n",
    "        \"\"\"Take the scalar (dot) product of a Particle's 4-momentum with another Particle's 4-momenum.\n",
    "        4-momentum has the form: (E,px,py,pz)\n",
    "        \"\"\"\n",
    "        return self.E()*other.E() - self.P3dot(other)\n",
    "    \n",
    "    def M(self,*other):\n",
    "        \"\"\"Calculate invariant mass of a Particle.\n",
    "        \n",
    "        If NO argument is given, gets the inv. mass of the Particle.\n",
    "        If one argument is given, gets the sqrt(s) of the two Particles.\n",
    "        \"\"\"\n",
    "        \n",
    "        # \n",
    "        if len(other)==0: return self.m\n",
    "        \n",
    "        else:\n",
    "            for part in other:\n",
    "                crossterm = 2*self.P4dot(part)\n",
    "                return np.sqrt( self.m**2 + part.m**2 + crossterm )\n",
    "    \n",
    "    def __add__(self, other):\n",
    "        \"\"\"Add two Particle objects together to make a new Particle.\n",
    "           Useful for decays \n",
    "\n",
    "        NOTE: The 3-momentum components add, but the inv. mass must be calculated differently.\n",
    "        \"\"\"\n",
    "        P = self.Pcomps + other.Pcomps\n",
    "        return Particle(self.M(other),P[0],P[1],P[2])"
   ]
  },
  {
   "cell_type": "markdown",
   "metadata": {},
   "source": [
    "# Problem 2"
   ]
  },
  {
   "cell_type": "code",
   "execution_count": 3,
   "metadata": {},
   "outputs": [],
   "source": [
    "# Initialize Particles.\n",
    "pion   = Particle(0.140,-0.255,-0.050,0.486)\n",
    "proton = Particle(0.938,-0.488,-0.018,2.109)\n",
    "X = pion + proton"
   ]
  },
  {
   "cell_type": "code",
   "execution_count": 4,
   "metadata": {},
   "outputs": [
    {
     "name": "stdout",
     "output_type": "stream",
     "text": [
      "pion values: [ 0.14  -0.255 -0.05   0.486]\n",
      "proton values: [ 0.938 -0.488 -0.018  2.109]\n",
      "X values: [ 1.13218789 -0.743      -0.068       2.595     ] \n",
      "\n",
      "X mass: 1.1321878919996906\n",
      "X energy: 2.9278912928574896\n"
     ]
    }
   ],
   "source": [
    "print(\"pion values:\",pion.vals)\n",
    "print(\"proton values:\",proton.vals)\n",
    "print(\"X values:\",X.vals,\"\\n\")\n",
    "print(\"X mass:\",X.m)\n",
    "print(\"X energy:\",X.E())"
   ]
  },
  {
   "cell_type": "code",
   "execution_count": 5,
   "metadata": {},
   "outputs": [
    {
     "name": "stdout",
     "output_type": "stream",
     "text": [
      "1.150314\n",
      "1.150314 \n",
      "\n",
      "0.1912027113953516\n",
      "0.1912027113953516\n"
     ]
    }
   ],
   "source": [
    "# Check that the 3-dim and 4-dim scalar products are symmetric.\n",
    "print(proton.P3dot(pion))\n",
    "print(pion.P3dot(proton),\"\\n\")\n",
    "print(proton.P4dot(pion))\n",
    "print(pion.P4dot(proton))"
   ]
  },
  {
   "cell_type": "markdown",
   "metadata": {},
   "source": [
    "# Problem 3"
   ]
  },
  {
   "cell_type": "code",
   "execution_count": 6,
   "metadata": {},
   "outputs": [],
   "source": [
    "# Initialize Particles.\n",
    "photon    = Particle(0,10,10,10)\n",
    "proton_i  = Particle(0.938,-10,-10,-10)\n",
    "pionminus = Particle(135,0,0,0)\n",
    "proton_f  = Particle(0.938,0,0,0)"
   ]
  },
  {
   "cell_type": "code",
   "execution_count": 7,
   "metadata": {},
   "outputs": [
    {
     "data": {
      "text/plain": [
       "67.96576380408716"
      ]
     },
     "execution_count": 7,
     "metadata": {},
     "output_type": "execute_result"
    }
   ],
   "source": [
    "Egamma = (pionminus.m + 2*proton_i.m)/(2 + 2*proton_i.m/pionminus.m)\n",
    "Egamma"
   ]
  },
  {
   "cell_type": "code",
   "execution_count": 8,
   "metadata": {},
   "outputs": [],
   "source": [
    "photon    = Particle(0,Egamma,0,0)\n",
    "proton_i  = Particle(0.938,-Egamma,0,0)\n",
    "pionminus = Particle(135,0,0,0)\n",
    "proton_f  = Particle(0.938,0,0,0)"
   ]
  },
  {
   "cell_type": "code",
   "execution_count": 9,
   "metadata": {},
   "outputs": [
    {
     "name": "stdout",
     "output_type": "stream",
     "text": [
      "135.93800000000002\n",
      "135.938\n"
     ]
    }
   ],
   "source": [
    "# Calculate sqrt(s) at these Feynman diagram vertices:\n",
    "print(photon.M(proton_i))  # first vertex\n",
    "print(pionminus.M(proton_f))  # second vertex\n",
    "true_sqrt_s = pionminus.M(proton_f)"
   ]
  },
  {
   "cell_type": "markdown",
   "metadata": {},
   "source": [
    "# A Neat Graphical Proof:"
   ]
  },
  {
   "cell_type": "code",
   "execution_count": 10,
   "metadata": {},
   "outputs": [],
   "source": [
    "import matplotlib.pyplot as plt\n",
    "%matplotlib inline"
   ]
  },
  {
   "cell_type": "code",
   "execution_count": 11,
   "metadata": {},
   "outputs": [],
   "source": [
    "# Scan over a range of photon momenta. \n",
    "momenta = np.arange(30,100,1,dtype=float)\n",
    "\n",
    "sqrt_s_photon_list = []\n",
    "sqrt_s_pion_list = []\n",
    "for m in momenta:\n",
    "    photon    = Particle(0,m,0,0)\n",
    "    proton_i  = Particle(0.938,-m,0,0)\n",
    "    pionminus = Particle(135,0,0,0)\n",
    "    proton_f  = Particle(0.938,0,0,0)\n",
    "    sqrt_s_photon_list.append( photon.M(proton_i) )\n",
    "    sqrt_s_pion_list.append( pionminus.M(proton_f) )"
   ]
  },
  {
   "cell_type": "code",
   "execution_count": 12,
   "metadata": {
    "scrolled": true
   },
   "outputs": [
    {
     "data": {
      "text/plain": [
       "<matplotlib.legend.Legend at 0x113754cf8>"
      ]
     },
     "execution_count": 12,
     "metadata": {},
     "output_type": "execute_result"
    },
    {
     "data": {
      "image/png": "[encoded data removed]",
      "text/plain": [
       "<Figure size 432x288 with 1 Axes>"
      ]
     },
     "metadata": {},
     "output_type": "display_data"
    }
   ],
   "source": [
    "fig,ax = plt.subplots()\n",
    "\n",
    "ax.set_xlabel(r'Momentum of photon [GeV]')\n",
    "ax.set_ylabel(r'$\\sqrt{s}$  [GeV]')\n",
    "\n",
    "ax.plot(momenta,sqrt_s_photon_list, label=r'$\\sqrt{s}$  from $\\gamma\\ +\\ p_{i}$ (first vertex)')\n",
    "ax.plot(momenta,sqrt_s_pion_list, label=r'$\\sqrt{s}$  from $\\pi^{0}\\ +\\ p_{f}$ (second vertex)')\n",
    "\n",
    "# Add a line to easily see the intersection.\n",
    "ax.plot([Egamma,Egamma],[0,true_sqrt_s],ls='dashed',c='k')\n",
    "\n",
    "ax.legend()"
   ]
  }
 ],
 "metadata": {
  "kernelspec": {
   "display_name": "Python 3",
   "language": "python",
   "name": "python3"
  },
  "language_info": {
   "codemirror_mode": {
    "name": "ipython",
    "version": 3
   },
   "file_extension": ".py",
   "mimetype": "text/x-python",
   "name": "python",
   "nbconvert_exporter": "python",
   "pygments_lexer": "ipython3",
   "version": "3.6.7"
  }
 },
 "nbformat": 4,
 "nbformat_minor": 2
}
